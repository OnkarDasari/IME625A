{
 "cells": [
  {
   "cell_type": "code",
   "execution_count": null,
   "id": "9184065a",
   "metadata": {},
   "outputs": [],
   "source": [
    "#invite people for the Kaggle party\n",
    "import pandas as pd\n",
    "import matplotlib.pyplot as plt\n",
    "import seaborn as sns\n",
    "import numpy as np\n",
    "from scipy.stats import norm\n",
    "from sklearn.preprocessing import StandardScaler\n",
    "from scipy import stats\n",
    "from make_dataset import renamed_columns_en, process_raw, clean_na, make_dataset\n",
    "import warnings\n",
    "warnings.filterwarnings('ignore')\n",
    "%matplotlib inline"
   ]
  },
  {
   "cell_type": "code",
   "execution_count": null,
   "id": "989e9286",
   "metadata": {},
   "outputs": [],
   "source": [
    "#bring in the six packs\n",
    "df_train = pd.read_csv('./data/central_west.csv')"
   ]
  },
  {
   "cell_type": "code",
   "execution_count": null,
   "id": "f17651ed",
   "metadata": {},
   "outputs": [],
   "source": [
    "#check the decoration\n",
    "df_train.columns"
   ]
  },
  {
   "cell_type": "code",
   "execution_count": null,
   "id": "1388ecf7",
   "metadata": {},
   "outputs": [],
   "source": [
    "#descriptive statistics summary\n",
    "df_train['TEMPERATURA MÁXIMA NA HORA ANT. (AUT) (°C)'].describe()"
   ]
  },
  {
   "cell_type": "code",
   "execution_count": null,
   "id": "81e73760",
   "metadata": {},
   "outputs": [],
   "source": [
    "num_rows = len(df_train['TEMPERATURA MÁXIMA NA HORA ANT. (AUT) (°C)'])\n",
    "missing_data = []\n",
    "df_train.columns\n",
    "for i in range(num_rows):\n",
    "    if df_train['TEMPERATURA MÁXIMA NA HORA ANT. (AUT) (°C)'][i] == -9999:\n",
    "        missing_data.append(i)\n"
   ]
  },
  {
   "cell_type": "code",
   "execution_count": null,
   "id": "56f33041",
   "metadata": {},
   "outputs": [],
   "source": [
    "print(len(missing_data))"
   ]
  },
  {
   "cell_type": "code",
   "execution_count": null,
   "id": "a7c34412",
   "metadata": {},
   "outputs": [],
   "source": [
    "df_train = df_train.drop(labels=missing_data, axis=0)\n",
    "df_train.reset_index(drop=True)"
   ]
  },
  {
   "cell_type": "code",
   "execution_count": null,
   "id": "77e6161b",
   "metadata": {},
   "outputs": [],
   "source": [
    "#histogram\n",
    "sns.distplot(df_train['TEMPERATURA MÁXIMA NA HORA ANT. (AUT) (°C)']);"
   ]
  },
  {
   "cell_type": "code",
   "execution_count": null,
   "id": "c2c97f35",
   "metadata": {},
   "outputs": [],
   "source": [
    "print(\"lol\")"
   ]
  },
  {
   "cell_type": "code",
   "execution_count": null,
   "id": "c231e315",
   "metadata": {},
   "outputs": [],
   "source": [
    "var = 'PRESSÃO ATMOSFERICA MAX.NA HORA ANT. (AUT) (mB)'\n",
    "data = pd.concat([df_train['TEMPERATURA MÁXIMA NA HORA ANT. (AUT) (°C)'], df_train[var]], axis=1)\n",
    "data.plot.scatter(x=var, y='TEMPERATURA MÁXIMA NA HORA ANT. (AUT) (°C)', ylim=(0,50));"
   ]
  },
  {
   "cell_type": "code",
   "execution_count": null,
   "id": "7287c74f",
   "metadata": {},
   "outputs": [],
   "source": [
    "num_rows = len(df_train[var])\n",
    "missing_data = []\n",
    "df_train = df_train.reset_index(drop=True)\n",
    "for i in range(num_rows):\n",
    "    if df_train[var][i] == -9999:\n",
    "        missing_data.append(i)\n",
    "print(len(missing_data))"
   ]
  },
  {
   "cell_type": "code",
   "execution_count": null,
   "id": "dd0474a6",
   "metadata": {},
   "outputs": [],
   "source": [
    "df_train = df_train.drop(labels=missing_data, axis=0)"
   ]
  },
  {
   "cell_type": "code",
   "execution_count": null,
   "id": "23f34767",
   "metadata": {},
   "outputs": [],
   "source": [
    "data = pd.concat([df_train['TEMPERATURA MÁXIMA NA HORA ANT. (AUT) (°C)'], df_train[var]], axis=1)\n",
    "data.plot.scatter(x=var, y='TEMPERATURA MÁXIMA NA HORA ANT. (AUT) (°C)', ylim=(0,50));"
   ]
  },
  {
   "cell_type": "code",
   "execution_count": null,
   "id": "4753a738",
   "metadata": {},
   "outputs": [],
   "source": [
    "#correlation matrix\n",
    "corrmat = df_train.corr()\n",
    "f, ax = plt.subplots(figsize=(12, 9))\n",
    "sns.heatmap(corrmat, vmax=.5, square=True);"
   ]
  },
  {
   "cell_type": "code",
   "execution_count": null,
   "id": "d11931bd",
   "metadata": {},
   "outputs": [],
   "source": [
    "var = 'TEMPERATURA DO PONTO DE ORVALHO (°C)'"
   ]
  }
 ],
 "metadata": {
  "kernelspec": {
   "display_name": "Python 3 (ipykernel)",
   "language": "python",
   "name": "python3"
  },
  "language_info": {
   "codemirror_mode": {
    "name": "ipython",
    "version": 3
   },
   "file_extension": ".py",
   "mimetype": "text/x-python",
   "name": "python",
   "nbconvert_exporter": "python",
   "pygments_lexer": "ipython3",
   "version": "3.9.13"
  }
 },
 "nbformat": 4,
 "nbformat_minor": 5
}
